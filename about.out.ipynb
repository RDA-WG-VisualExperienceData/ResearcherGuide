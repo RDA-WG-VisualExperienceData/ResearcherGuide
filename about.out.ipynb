{
 "cells": [
  {
   "cell_type": "markdown",
   "metadata": {},
   "source": [
    "# About\n",
    "\n",
    "About this site"
   ],
   "id": "38b3df3b-9831-4fdb-b5e1-f629b0598a39"
  }
 ],
 "nbformat": 4,
 "nbformat_minor": 5,
 "metadata": {}
}
