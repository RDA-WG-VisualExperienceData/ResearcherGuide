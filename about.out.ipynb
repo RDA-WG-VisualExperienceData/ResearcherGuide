{
 "cells": [
  {
   "cell_type": "markdown",
   "metadata": {},
   "source": [
    "# About\n",
    "\n",
    "About this site"
   ],
   "id": "4eb501f1-0048-44a2-b8ca-7c8e302403ac"
  }
 ],
 "nbformat": 4,
 "nbformat_minor": 5,
 "metadata": {}
}
