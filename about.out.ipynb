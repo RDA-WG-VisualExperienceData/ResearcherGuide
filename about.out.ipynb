{
 "cells": [
  {
   "cell_type": "markdown",
   "metadata": {},
   "source": [
    "# About\n",
    "\n",
    "About this site"
   ],
   "id": "6910b867-587b-48cb-8d63-7473a8223325"
  }
 ],
 "nbformat": 4,
 "nbformat_minor": 5,
 "metadata": {}
}
