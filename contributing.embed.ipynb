{
 "cells": [
  {
   "cell_type": "markdown",
   "metadata": {},
   "source": [
    "# Contributing\n",
    "\n",
    "Stay tuned to learn more about how you can contribute to the Research Guide."
   ],
   "id": "3c729ebe-5cca-45a7-bc3d-0d1892432676"
  }
 ],
 "nbformat": 4,
 "nbformat_minor": 5,
 "metadata": {}
}
