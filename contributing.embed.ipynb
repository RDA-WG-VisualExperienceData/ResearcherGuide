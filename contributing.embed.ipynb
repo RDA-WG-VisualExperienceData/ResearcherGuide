{
 "cells": [
  {
   "cell_type": "markdown",
   "metadata": {},
   "source": [
    "# Contributing\n",
    "\n",
    "Stay tuned to learn more about how you can contribute to the Research Guide."
   ],
   "id": "f70a8b1e-5e3d-4c29-a0e8-351e135f5607"
  }
 ],
 "nbformat": 4,
 "nbformat_minor": 5,
 "metadata": {}
}
