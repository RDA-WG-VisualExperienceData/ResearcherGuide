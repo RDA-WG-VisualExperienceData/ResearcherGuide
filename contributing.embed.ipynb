{
 "cells": [
  {
   "cell_type": "markdown",
   "metadata": {},
   "source": [
    "# Contributing\n",
    "\n",
    "Stay tuned to learn more about how you can contribute to the Research Guide."
   ],
   "id": "72e270b2-f0d8-42db-8570-82d9d067ab12"
  }
 ],
 "nbformat": 4,
 "nbformat_minor": 5,
 "metadata": {}
}
