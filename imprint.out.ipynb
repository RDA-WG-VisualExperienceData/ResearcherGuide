{
 "cells": [
  {
   "cell_type": "markdown",
   "metadata": {},
   "source": [
    "# Imprint\n",
    "\n",
    "Light for Public Health Initiative\n",
    "\n",
    "[Max Planck Research Group Translational Sensory and Circadian Neuroscience](https://www.kyb.tuebingen.mpg.de/614159/translational-sensory-and-circadian-neuroscience)\n",
    "\n",
    "[Max Planck Institute for Biological Cybernetics](https://www.kyb.tuebingen.mpg.de/en)\n",
    "\n",
    "Max-Planck-Ring 8-14\n",
    "\n",
    "D-72076 Tübingen\n",
    "\n",
    "Germany\n",
    "\n",
    "Email: <manuel.spitschan@tuebingen.mpg.de>\n",
    "\n",
    "Telephone: +49 (0)7071 601 1670"
   ],
   "id": "02f481fb-09ed-415d-96c0-bedff71557b5"
  }
 ],
 "nbformat": 4,
 "nbformat_minor": 5,
 "metadata": {}
}
