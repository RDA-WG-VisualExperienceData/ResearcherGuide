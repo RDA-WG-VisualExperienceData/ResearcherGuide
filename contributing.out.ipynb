{
 "cells": [
  {
   "cell_type": "markdown",
   "metadata": {},
   "source": [
    "# Contributing\n",
    "\n",
    "Stay tuned to learn more about how you can contribute to the Research Guide."
   ],
   "id": "4a6aa088-28da-41dc-b8fb-da8fd1676dde"
  }
 ],
 "nbformat": 4,
 "nbformat_minor": 5,
 "metadata": {}
}
