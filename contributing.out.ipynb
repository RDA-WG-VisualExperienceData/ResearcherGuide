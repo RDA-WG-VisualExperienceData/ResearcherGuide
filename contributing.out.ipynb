{
 "cells": [
  {
   "cell_type": "markdown",
   "metadata": {},
   "source": [
    "# Contributing\n",
    "\n",
    "Stay tuned to learn more about how you can contribute to the Research Guide."
   ],
   "id": "49def0ce-98fc-4b30-acae-5c3b41242ea1"
  }
 ],
 "nbformat": 4,
 "nbformat_minor": 5,
 "metadata": {}
}
