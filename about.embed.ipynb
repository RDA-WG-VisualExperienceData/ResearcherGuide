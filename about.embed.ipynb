{
 "cells": [
  {
   "cell_type": "markdown",
   "metadata": {},
   "source": [
    "# About\n",
    "\n",
    "About this site"
   ],
   "id": "c2a9b2f3-96fb-4d79-bcd9-afb074b0cbb3"
  }
 ],
 "nbformat": 4,
 "nbformat_minor": 5,
 "metadata": {}
}
