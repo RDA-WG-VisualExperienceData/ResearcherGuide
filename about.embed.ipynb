{
 "cells": [
  {
   "cell_type": "markdown",
   "metadata": {},
   "source": [
    "# About\n",
    "\n",
    "About this site"
   ],
   "id": "b001b61b-f396-413e-a8cf-d27e3c540b48"
  }
 ],
 "nbformat": 4,
 "nbformat_minor": 5,
 "metadata": {}
}
